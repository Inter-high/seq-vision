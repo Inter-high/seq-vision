{
 "cells": [
  {
   "cell_type": "code",
   "execution_count": 4,
   "metadata": {},
   "outputs": [],
   "source": [
    "\"\"\"\n",
    "This module provides RNN and CNN-RNN classifiers for video classification.\n",
    "It includes:\n",
    "  - VanilaRNN: A basic recurrent neural network for processing sequential data.\n",
    "  - CNNRNNClassifier: A classifier that combines CNN-based feature extraction with a recurrent network.\n",
    "\n",
    "Author: yumemonzo@gmail.com\n",
    "Date: 2025-03-03\n",
    "\"\"\"\n",
    "\n",
    "import torch\n",
    "import torch.nn as nn\n",
    "from models import get_resnet18\n",
    "\n",
    "\n",
    "class VanilaRNN(nn.Module):\n",
    "    def __init__(self, input_size: int, hidden_size: int, output_size: int, num_layers: int = 1) -> None:\n",
    "        \"\"\"\n",
    "        Initialize a basic multi-layer RNN.\n",
    "\n",
    "        Args:\n",
    "            input_size (int): Dimension of the input feature vector.\n",
    "            hidden_size (int): Dimension of the hidden state.\n",
    "            output_size (int): Dimension of the output vector.\n",
    "            num_layers (int): Number of stacked RNN layers. Defaults to 1.\n",
    "        \"\"\"\n",
    "        super(VanilaRNN, self).__init__()\n",
    "        self.hidden_size: int = hidden_size\n",
    "        self.num_layers: int = num_layers\n",
    "        \n",
    "        # For each layer, create an input linear layer and a hidden state linear layer.\n",
    "        # For the first layer, input dimension is input_size; for subsequent layers, it's hidden_size.\n",
    "        self.input_layers = nn.ModuleList()\n",
    "        self.hidden_layers = nn.ModuleList()\n",
    "        \n",
    "        for layer in range(num_layers):\n",
    "            in_dim = input_size if layer == 0 else hidden_size\n",
    "            self.input_layers.append(nn.Linear(in_dim, hidden_size))\n",
    "            self.hidden_layers.append(nn.Linear(hidden_size, hidden_size))\n",
    "        \n",
    "        self.output_layer: nn.Linear = nn.Linear(hidden_size, output_size)\n",
    "    \n",
    "    def forward(self, x: torch.Tensor) -> torch.Tensor:\n",
    "        \"\"\"\n",
    "        Process an input sequence through the multi-layer RNN.\n",
    "\n",
    "        Args:\n",
    "            x (torch.Tensor): Input tensor with shape (batch_size, seq_len, input_size).\n",
    "\n",
    "        Returns:\n",
    "            torch.Tensor: Output tensor with shape (batch_size, output_size).\n",
    "        \"\"\"\n",
    "        batch_size, seq_len, _ = x.shape\n",
    "        # Initialize hidden states for all layers.\n",
    "        h = [torch.zeros(batch_size, self.hidden_size, device=x.device) for _ in range(self.num_layers)]\n",
    "        \n",
    "        # Process each time step.\n",
    "        for t in range(seq_len):\n",
    "            input_t = x[:, t, :]\n",
    "            for layer in range(self.num_layers):\n",
    "                # For the first layer, use the current input; for subsequent layers, use the previous layer's output.\n",
    "                layer_input = input_t if layer == 0 else h[layer - 1]\n",
    "                h[layer] = torch.tanh(self.input_layers[layer](layer_input) + self.hidden_layers[layer](h[layer]))\n",
    "        \n",
    "        # Use the last layer's hidden state for output.\n",
    "        y = self.output_layer(h[-1])\n",
    "        return y\n",
    "    \n",
    "\n",
    "class CNNRNNClassifier(nn.Module):\n",
    "    def __init__(self, hidden_size: int, num_classes: int, num_layers: int = 1) -> None:\n",
    "        \"\"\"\n",
    "        Initialize the CNN-RNN classifier.\n",
    "\n",
    "        This classifier extracts features from video frames using a pretrained ResNet18 and\n",
    "        processes the sequence of features using a multi-layer RNN.\n",
    "\n",
    "        Args:\n",
    "            hidden_size (int): Dimension of the RNN hidden state.\n",
    "            num_classes (int): Number of output classes.\n",
    "            num_layers (int): Number of stacked RNN layers. Defaults to 1.\n",
    "        \"\"\"\n",
    "        super(CNNRNNClassifier, self).__init__()\n",
    "        resnet18_model = get_resnet18()\n",
    "        # Remove the final fully connected layer of ResNet18.\n",
    "        self.feature_extractor: nn.Sequential = nn.Sequential(*list(resnet18_model.children())[:-1])\n",
    "        # Input to RNN is a flattened feature map of size 512.\n",
    "        self.rnn: VanilaRNN = VanilaRNN(512, hidden_size, num_classes, num_layers)\n",
    "    \n",
    "    def forward(self, x: torch.Tensor) -> torch.Tensor:\n",
    "        \"\"\"\n",
    "        Forward pass of the CNN-RNN classifier.\n",
    "\n",
    "        Args:\n",
    "            x (torch.Tensor): Input tensor with shape (batch_size, seq_len, C, H, W).\n",
    "\n",
    "        Returns:\n",
    "            torch.Tensor: Output logits with shape (batch_size, num_classes).\n",
    "        \"\"\"\n",
    "        batch_size, seq_len, C, H, W = x.shape\n",
    "        features = []\n",
    "        for t in range(seq_len):\n",
    "            # x[:, t] has shape (batch_size, C, H, W)\n",
    "            x_t = self.feature_extractor(x[:, t])\n",
    "            # Flatten the feature map.\n",
    "            x_t = x_t.view(batch_size, -1)\n",
    "            features.append(x_t)\n",
    "        # Stack along the time dimension -> shape: (batch_size, seq_len, feature_size)\n",
    "        features = torch.stack(features, dim=1)\n",
    "        print(features.shape)\n",
    "\n",
    "        return self.rnn(features)"
   ]
  },
  {
   "cell_type": "code",
   "execution_count": 5,
   "metadata": {},
   "outputs": [],
   "source": [
    "input = torch.zeros((4, 50, 3, 224, 224))\n",
    "label = torch.zeros((4,))"
   ]
  },
  {
   "cell_type": "code",
   "execution_count": 6,
   "metadata": {},
   "outputs": [
    {
     "name": "stdout",
     "output_type": "stream",
     "text": [
      "torch.Size([4, 50, 3, 224, 224])\n",
      "torch.Size([4])\n"
     ]
    }
   ],
   "source": [
    "print(input.shape)\n",
    "print(label.shape)"
   ]
  },
  {
   "cell_type": "code",
   "execution_count": 7,
   "metadata": {},
   "outputs": [],
   "source": [
    "classifier = CNNRNNClassifier(256, 101, 4)"
   ]
  },
  {
   "cell_type": "code",
   "execution_count": 8,
   "metadata": {},
   "outputs": [
    {
     "name": "stdout",
     "output_type": "stream",
     "text": [
      "torch.Size([4, 50, 512])\n"
     ]
    }
   ],
   "source": [
    "output = classifier(input)"
   ]
  },
  {
   "cell_type": "code",
   "execution_count": null,
   "metadata": {},
   "outputs": [],
   "source": []
  }
 ],
 "metadata": {
  "kernelspec": {
   "display_name": "Python 3",
   "language": "python",
   "name": "python3"
  },
  "language_info": {
   "codemirror_mode": {
    "name": "ipython",
    "version": 3
   },
   "file_extension": ".py",
   "mimetype": "text/x-python",
   "name": "python",
   "nbconvert_exporter": "python",
   "pygments_lexer": "ipython3",
   "version": "3.10.12"
  }
 },
 "nbformat": 4,
 "nbformat_minor": 2
}
